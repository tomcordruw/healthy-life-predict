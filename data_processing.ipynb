{
 "cells": [
  {
   "cell_type": "code",
   "execution_count": null,
   "metadata": {},
   "outputs": [],
   "source": [
    "import pandas as pd\n",
    "import numpy as np"
   ]
  },
  {
   "cell_type": "code",
   "execution_count": null,
   "metadata": {},
   "outputs": [],
   "source": [
    "# Overall steps:\n",
    "\n",
    "# 1. Get all tables into the same format (Rows: Area, Columns: Feature by year 2010-2023)\n",
    "\n",
    "# 2. Limit to ~10 most usable categories at first\n",
    "# 3. Drop Åland, impute missing years/values\n",
    "# 4. Apply simple ML algorithm (linear regression) to predict average age based on factors like:\n",
    "# 5. Age, sex, daily smoking, binge drinking, obesity, physical activity, happiness, disposable income, access to healthcare, mental strain, etc."
   ]
  }
 ],
 "metadata": {
  "language_info": {
   "name": "python"
  }
 },
 "nbformat": 4,
 "nbformat_minor": 2
}
