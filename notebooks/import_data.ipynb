{
 "cells": [
  {
   "cell_type": "code",
   "execution_count": 1,
   "id": "ff476d87",
   "metadata": {},
   "outputs": [
    {
     "name": "stdout",
     "output_type": "stream",
     "text": [
      "                  region      value\n",
      "0        Central Finland  10.742857\n",
      "1   Central Ostrobothnia  13.128571\n",
      "2                 Kainuu  13.242857\n",
      "3             Kanta-Häme  13.171429\n",
      "4            Kymenlaakso  14.185714\n",
      "5                Lapland  15.028571\n",
      "6          North Karelia  12.557143\n",
      "7     North Ostrobothnia  11.928571\n",
      "8             North Savo  12.528571\n",
      "9           Ostrobothnia   9.842857\n",
      "10             Pirkanmaa  10.671429\n",
      "11           Päijät-Häme  13.528571\n",
      "12             Satakunta  13.714286\n",
      "13         South Karelia  13.100000\n",
      "14    South Ostrobothnia  12.157143\n",
      "15            South Savo  12.471429\n",
      "16     Southwest Finland  11.885714\n",
      "17               Uusimaa  11.842857\n",
      "18                 Åland   6.350000\n"
     ]
    }
   ],
   "source": [
    "import pandas as pd\n",
    "\n",
    "daily_smokers = pd.read_csv('regional-data/daily_smokers.csv', sep=';', index_col=False)\n",
    "daily_smokers = daily_smokers.drop(columns=['indicator', 'indicator_id', 'region_id', 'sex'])\n",
    "\n",
    "daily_smokers_average_by_region = daily_smokers.groupby('region')['value'].mean().reset_index()\n",
    "print(daily_smokers_average_by_region)\n"
   ]
  },
  {
   "cell_type": "code",
   "execution_count": 2,
   "id": "55b9b82a",
   "metadata": {},
   "outputs": [
    {
     "name": "stdout",
     "output_type": "stream",
     "text": [
      "                 region      value\n",
      "0       Central Finland  10.242857\n",
      "1  Central Ostrobothnia   8.828571\n",
      "2                Kainuu  10.128571\n",
      "3            Kanta-Häme   8.628571\n",
      "4           Kymenlaakso  10.957143\n"
     ]
    }
   ],
   "source": [
    "binge_drinking = pd.read_csv('regional-data/binge_drinking.csv', sep=';', index_col=False)\n",
    "binge_drinking = binge_drinking.drop(columns=['indicator', 'indicator_id', 'region_id', 'sex'])\n",
    "binge_drinkers_average_by_region = binge_drinking.groupby('region')['value'].mean().reset_index()\n",
    "print(binge_drinkers_average_by_region.head())"
   ]
  },
  {
   "cell_type": "code",
   "execution_count": 3,
   "id": "0e3cc5c1",
   "metadata": {},
   "outputs": [
    {
     "name": "stdout",
     "output_type": "stream",
     "text": [
      "            region   sex  year  value\n",
      "0  Central Finland  male  2010   76.4\n",
      "1  Central Finland  male  2011   76.7\n",
      "2  Central Finland  male  2012   77.0\n",
      "3  Central Finland  male  2013   77.3\n",
      "4  Central Finland  male  2014   77.7\n",
      "                 region       sex      value\n",
      "0       Central Finland  combined  80.900000\n",
      "1       Central Finland    female  83.857143\n",
      "2       Central Finland      male  77.978571\n",
      "3  Central Ostrobothnia  combined  81.785714\n",
      "4  Central Ostrobothnia    female  84.428571\n"
     ]
    }
   ],
   "source": [
    "life_expectancy = pd.read_csv('regional-data/life_expectancy.csv', sep=';', index_col=False)\n",
    "# columns value and value2 are always equal\n",
    "life_expectancy = life_expectancy.drop(columns=['indicator', 'indicator_id', 'region_id', 'value2'])\n",
    "life_expectancy_by_region_and_sex = life_expectancy.groupby(['region', 'sex'])['value'].mean().reset_index()\n",
    "\n",
    "print(life_expectancy.head())\n",
    "\n",
    "print(life_expectancy_by_region_and_sex.head())"
   ]
  },
  {
   "cell_type": "code",
   "execution_count": 5,
   "id": "c382c064",
   "metadata": {},
   "outputs": [
    {
     "name": "stdout",
     "output_type": "stream",
     "text": [
      "                     Area  Average age, both sexes 2010  \\\n",
      "0            MK01 Uusimaa                          39.4   \n",
      "1  MK02 Southwest Finland                          42.1   \n",
      "2          MK04 Satakunta                          43.9   \n",
      "3         MK05 Kanta-Häme                          42.5   \n",
      "4          MK06 Pirkanmaa                          41.2   \n",
      "\n",
      "   Average age, both sexes 2011  Average age, both sexes 2012  \\\n",
      "0                          39.5                          39.7   \n",
      "1                          42.3                          42.4   \n",
      "2                          44.1                          44.3   \n",
      "3                          42.7                          42.9   \n",
      "4                          41.4                          41.5   \n",
      "\n",
      "   Average age, both sexes 2013  Average age, both sexes 2014  \\\n",
      "0                          39.8                          40.0   \n",
      "1                          42.6                          42.8   \n",
      "2                          44.4                          44.6   \n",
      "3                          43.1                          43.4   \n",
      "4                          41.6                          41.8   \n",
      "\n",
      "   Average age, both sexes 2015  Average age, both sexes 2016  \\\n",
      "0                          40.1                          40.2   \n",
      "1                          43.0                          43.2   \n",
      "2                          44.9                          45.1   \n",
      "3                          43.7                          44.1   \n",
      "4                          41.9                          42.1   \n",
      "\n",
      "   Average age, both sexes 2017  Average age, both sexes 2018  ...  \\\n",
      "0                          40.4                          40.6  ...   \n",
      "1                          43.3                          43.6  ...   \n",
      "2                          45.4                          45.7  ...   \n",
      "3                          44.4                          44.8  ...   \n",
      "4                          42.2                          42.4  ...   \n",
      "\n",
      "   Share of persons in rural areas, % 2015  \\\n",
      "0                                      8.1   \n",
      "1                                     25.0   \n",
      "2                                     32.7   \n",
      "3                                     23.5   \n",
      "4                                     26.9   \n",
      "\n",
      "   Share of persons in rural areas, % 2016  \\\n",
      "0                                      7.9   \n",
      "1                                     24.8   \n",
      "2                                     32.6   \n",
      "3                                     23.3   \n",
      "4                                     26.4   \n",
      "\n",
      "   Share of persons in rural areas, % 2017  \\\n",
      "0                                      7.8   \n",
      "1                                     24.6   \n",
      "2                                     32.5   \n",
      "3                                     23.2   \n",
      "4                                     26.0   \n",
      "\n",
      "   Share of persons in rural areas, % 2018  \\\n",
      "0                                      7.6   \n",
      "1                                     24.4   \n",
      "2                                     32.2   \n",
      "3                                     23.0   \n",
      "4                                     25.5   \n",
      "\n",
      "   Share of persons in rural areas, % 2019  \\\n",
      "0                                      7.5   \n",
      "1                                     24.0   \n",
      "2                                     32.1   \n",
      "3                                     22.8   \n",
      "4                                     25.1   \n",
      "\n",
      "   Share of persons in rural areas, % 2020  \\\n",
      "0                                      7.4   \n",
      "1                                     23.8   \n",
      "2                                     31.9   \n",
      "3                                     22.7   \n",
      "4                                     24.7   \n",
      "\n",
      "   Share of persons in rural areas, % 2021  \\\n",
      "0                                      7.3   \n",
      "1                                     23.6   \n",
      "2                                     31.8   \n",
      "3                                     22.6   \n",
      "4                                     24.4   \n",
      "\n",
      "   Share of persons in rural areas, % 2022  \\\n",
      "0                                      7.2   \n",
      "1                                     23.2   \n",
      "2                                     31.5   \n",
      "3                                     22.4   \n",
      "4                                     23.9   \n",
      "\n",
      "   Share of persons in rural areas, % 2023  \\\n",
      "0                                      7.0   \n",
      "1                                     22.9   \n",
      "2                                     31.3   \n",
      "3                                     22.2   \n",
      "4                                     23.4   \n",
      "\n",
      "   Share of persons in rural areas, % 2024  \n",
      "0                                      6.9  \n",
      "1                                     22.5  \n",
      "2                                     31.0  \n",
      "3                                     22.0  \n",
      "4                                     23.0  \n",
      "\n",
      "[5 rows x 91 columns]\n"
     ]
    }
   ],
   "source": [
    "age_area_sex_rural_urban = pd.read_csv('regional-data/age_sex_rural_urban.csv', sep=';', index_col=False)\n",
    "print(age_area_sex_rural_urban.head())"
   ]
  },
  {
   "cell_type": "code",
   "execution_count": 11,
   "id": "8353f613",
   "metadata": {},
   "outputs": [
    {
     "name": "stdout",
     "output_type": "stream",
     "text": [
      "              region  year  value\n",
      "0    Central Finland  2010    8.1\n",
      "1    Central Finland  2011    8.1\n",
      "2    Central Finland  2012    7.7\n",
      "3    Central Finland  2013    7.5\n",
      "4    Central Finland  2014    7.3\n",
      "..               ...   ...    ...\n",
      "280            Åland  2020    6.2\n",
      "281            Åland  2021    6.3\n",
      "282            Åland  2022    5.4\n",
      "283            Åland  2023    5.2\n",
      "284            Åland  2024    5.3\n",
      "\n",
      "[285 rows x 3 columns]\n",
      "                 region     value\n",
      "0       Central Finland  7.133333\n",
      "1  Central Ostrobothnia  6.373333\n",
      "2                Kainuu  8.120000\n",
      "3            Kanta-Häme  7.406667\n",
      "4           Kymenlaakso  7.733333\n"
     ]
    },
    {
     "name": "stderr",
     "output_type": "stream",
     "text": [
      "/tmp/ipykernel_4589/37762783.py:1: ParserWarning: Length of header or names does not match length of data. This leads to a loss of data with index_col=False.\n",
      "  alcohol_sales = pd.read_csv('regional-data/alcohol_sales.csv', sep=';', index_col=False)\n"
     ]
    }
   ],
   "source": [
    "alcohol_sales = pd.read_csv('regional-data/alcohol_sales.csv', sep=';', index_col=False)\n",
    "alcohol_sales = alcohol_sales.drop(columns=['indicator', 'indicator_id', 'region_id', 'sex'])\n",
    "alcohol_sales_average_by_region = alcohol_sales.groupby('region')['value'].mean().reset_index()\n",
    "\n",
    "print(alcohol_sales)\n",
    "print(alcohol_sales_average_by_region.head())"
   ]
  },
  {
   "cell_type": "code",
   "execution_count": null,
   "id": "38585ebc",
   "metadata": {},
   "outputs": [
    {
     "name": "stdout",
     "output_type": "stream",
     "text": [
      "                 region      value\n",
      "0       Central Finland   7.933333\n",
      "1  Central Ostrobothnia   7.960000\n",
      "2                Kainuu  11.100000\n",
      "3            Kanta-Häme   7.400000\n",
      "4           Kymenlaakso   9.153333\n",
      "            region  year  value  value2\n",
      "0  Central Finland  2010    9.7   13805\n",
      "1  Central Finland  2011    9.5   13451\n",
      "2  Central Finland  2012    9.3   13017\n",
      "3  Central Finland  2013    9.0   12450\n",
      "4  Central Finland  2014    8.7   11918\n"
     ]
    }
   ],
   "source": [
    "disability_ratio = pd.read_csv('regional-data/disability_ratio.csv', sep=';', index_col=False)\n",
    "disability_ratio = disability_ratio.drop(columns=['indicator', 'indicator_id', 'region_id', 'sex'])\n",
    "disability_ratio_average_by_region = disability_ratio.groupby('region')['value'].mean().reset_index()\n",
    "\n",
    "print(disability_ratio_average_by_region.head())\n",
    "\n",
    "print(disability_ratio.head())"
   ]
  },
  {
   "cell_type": "code",
   "execution_count": 16,
   "id": "b33701a8",
   "metadata": {},
   "outputs": [
    {
     "name": "stdout",
     "output_type": "stream",
     "text": [
      "                     Area  \\\n",
      "0            MK01 Uusimaa   \n",
      "1  MK02 Southwest Finland   \n",
      "2          MK04 Satakunta   \n",
      "3         MK05 Kanta-Häme   \n",
      "4          MK06 Pirkanmaa   \n",
      "\n",
      "   Share of persons aged 15 or over without upper secondary qualification, %, % 2010  \\\n",
      "0                                               31.0                                   \n",
      "1                                               33.3                                   \n",
      "2                                               36.3                                   \n",
      "3                                               34.4                                   \n",
      "4                                               31.1                                   \n",
      "\n",
      "   Share of persons aged 15 or over without upper secondary qualification, %, % 2011  \\\n",
      "0                                               30.4                                   \n",
      "1                                               32.5                                   \n",
      "2                                               35.5                                   \n",
      "3                                               33.6                                   \n",
      "4                                               30.3                                   \n",
      "\n",
      "   Share of persons aged 15 or over without upper secondary qualification, %, % 2012  \\\n",
      "0                                               29.9                                   \n",
      "1                                               31.8                                   \n",
      "2                                               34.6                                   \n",
      "3                                               33.0                                   \n",
      "4                                               29.4                                   \n",
      "\n",
      "   Share of persons aged 15 or over without upper secondary qualification, %, % 2013  \\\n",
      "0                                               29.2                                   \n",
      "1                                               30.8                                   \n",
      "2                                               33.6                                   \n",
      "3                                               32.0                                   \n",
      "4                                               28.4                                   \n",
      "\n",
      "   Share of persons aged 15 or over without upper secondary qualification, %, % 2014  \\\n",
      "0                                               28.6                                   \n",
      "1                                               30.0                                   \n",
      "2                                               32.6                                   \n",
      "3                                               31.2                                   \n",
      "4                                               27.5                                   \n",
      "\n",
      "   Share of persons aged 15 or over without upper secondary qualification, %, % 2015  \\\n",
      "0                                               28.4                                   \n",
      "1                                               29.6                                   \n",
      "2                                               32.1                                   \n",
      "3                                               30.8                                   \n",
      "4                                               27.0                                   \n",
      "\n",
      "   Share of persons aged 15 or over without upper secondary qualification, %, % 2016  \\\n",
      "0                                               28.0                                   \n",
      "1                                               28.9                                   \n",
      "2                                               31.5                                   \n",
      "3                                               30.0                                   \n",
      "4                                               26.4                                   \n",
      "\n",
      "   Share of persons aged 15 or over without upper secondary qualification, %, % 2017  \\\n",
      "0                                               27.4                                   \n",
      "1                                               28.0                                   \n",
      "2                                               30.7                                   \n",
      "3                                               29.2                                   \n",
      "4                                               25.5                                   \n",
      "\n",
      "   Share of persons aged 15 or over without upper secondary qualification, %, % 2018  \\\n",
      "0                                               25.9                                   \n",
      "1                                               26.8                                   \n",
      "2                                               29.6                                   \n",
      "3                                               28.2                                   \n",
      "4                                               24.4                                   \n",
      "\n",
      "   ...  \\\n",
      "0  ...   \n",
      "1  ...   \n",
      "2  ...   \n",
      "3  ...   \n",
      "4  ...   \n",
      "\n",
      "   Share of persons aged 15 or over with tertiary level qualification, % 2015  \\\n",
      "0                                               36.9                            \n",
      "1                                               29.4                            \n",
      "2                                               24.7                            \n",
      "3                                               27.0                            \n",
      "4                                               31.0                            \n",
      "\n",
      "   Share of persons aged 15 or over with tertiary level qualification, % 2016  \\\n",
      "0                                               37.3                            \n",
      "1                                               29.8                            \n",
      "2                                               25.0                            \n",
      "3                                               27.3                            \n",
      "4                                               31.4                            \n",
      "\n",
      "   Share of persons aged 15 or over with tertiary level qualification, % 2017  \\\n",
      "0                                               37.9                            \n",
      "1                                               30.4                            \n",
      "2                                               25.3                            \n",
      "3                                               27.7                            \n",
      "4                                               31.8                            \n",
      "\n",
      "   Share of persons aged 15 or over with tertiary level qualification, % 2018  \\\n",
      "0                                               38.9                            \n",
      "1                                               31.2                            \n",
      "2                                               25.9                            \n",
      "3                                               28.1                            \n",
      "4                                               32.6                            \n",
      "\n",
      "   Share of persons aged 15 or over with tertiary level qualification, % 2019  \\\n",
      "0                                               39.3                            \n",
      "1                                               31.6                            \n",
      "2                                               26.2                            \n",
      "3                                               28.4                            \n",
      "4                                               33.1                            \n",
      "\n",
      "   Share of persons aged 15 or over with tertiary level qualification, % 2020  \\\n",
      "0                                               39.7                            \n",
      "1                                               32.1                            \n",
      "2                                               26.5                            \n",
      "3                                               28.8                            \n",
      "4                                               33.6                            \n",
      "\n",
      "   Share of persons aged 15 or over with tertiary level qualification, % 2021  \\\n",
      "0                                               40.0                            \n",
      "1                                               32.4                            \n",
      "2                                               26.8                            \n",
      "3                                               29.2                            \n",
      "4                                               34.1                            \n",
      "\n",
      "   Share of persons aged 15 or over with tertiary level qualification, % 2022  \\\n",
      "0                                               40.0                            \n",
      "1                                               32.8                            \n",
      "2                                               27.1                            \n",
      "3                                               29.4                            \n",
      "4                                               34.5                            \n",
      "\n",
      "   Share of persons aged 15 or over with tertiary level qualification, % 2023  \\\n",
      "0                                               40.5                            \n",
      "1                                               33.2                            \n",
      "2                                               27.5                            \n",
      "3                                               29.8                            \n",
      "4                                               35.1                            \n",
      "\n",
      "   Share of persons aged 15 or over with tertiary level qualification, % 2024  \n",
      "0                                               40.6                           \n",
      "1                                               33.5                           \n",
      "2                                               27.7                           \n",
      "3                                               30.0                           \n",
      "4                                               35.6                           \n",
      "\n",
      "[5 rows x 46 columns]\n"
     ]
    }
   ],
   "source": [
    "education_level = pd.read_csv('regional-data/education_level.csv', sep=';', index_col=False)\n",
    "\n",
    "print(education_level.head())"
   ]
  },
  {
   "cell_type": "code",
   "execution_count": 23,
   "id": "4e979587",
   "metadata": {},
   "outputs": [
    {
     "name": "stdout",
     "output_type": "stream",
     "text": [
      "            region  year   value  value2\n",
      "0  Central Finland  2016  2807.3    7691\n",
      "1  Central Finland  2017  2760.2    7561\n",
      "2  Central Finland  2018  2721.4    7444\n",
      "3  Central Finland  2019  2728.7    7453\n",
      "4  Central Finland  2020  2696.1    7355\n",
      "                 region        value       value2\n",
      "0       Central Finland  2675.500000  7315.888889\n",
      "1  Central Ostrobothnia  3075.855556  2099.888889\n",
      "2                Kainuu  4083.455556  2943.333333\n",
      "3            Kanta-Häme  2448.977778  4191.555556\n",
      "4           Kymenlaakso  2843.455556  4658.111111\n"
     ]
    }
   ],
   "source": [
    "elder_care = pd.read_csv('regional-data/elder_care_per_100k.csv', sep=';', index_col=False)\n",
    "elder_care = elder_care.drop(columns=['indicator', 'indicator_id', 'region_id', 'sex'])\n",
    "elder_care_average_by_region = elder_care.groupby('region')[['value', 'value2']].mean().reset_index()\n",
    "print(elder_care.head())\n",
    "\n",
    "print(elder_care_average_by_region.head())"
   ]
  },
  {
   "cell_type": "code",
   "execution_count": 24,
   "id": "7fb78246",
   "metadata": {},
   "outputs": [
    {
     "name": "stdout",
     "output_type": "stream",
     "text": [
      "                     Area  Population 31 Dec Employed 2010  \\\n",
      "0            MK01 Uusimaa                           744820   \n",
      "1  MK02 Southwest Finland                           202007   \n",
      "2         MK05 Kanta-Häme                            75133   \n",
      "3        MK07 Päijät-Häme                            85166   \n",
      "4        MK08 Kymenlaakso                            69323   \n",
      "\n",
      "   Population 31 Dec Employed 2011  Population 31 Dec Employed 2012  \\\n",
      "0                           755479                           757522   \n",
      "1                           204877                           201618   \n",
      "2                            76045                            75464   \n",
      "3                            86210                            85365   \n",
      "4                            68869                            67797   \n",
      "\n",
      "   Population 31 Dec Employed 2013  Population 31 Dec Employed 2014  \\\n",
      "0                           750579                           745478   \n",
      "1                           198110                           195818   \n",
      "2                            73778                            72638   \n",
      "3                            82781                            80519   \n",
      "4                            66095                            64495   \n",
      "\n",
      "   Population 31 Dec Employed 2015  Population 31 Dec Employed 2016  \\\n",
      "0                           745792                           756611   \n",
      "1                           194561                           196637   \n",
      "2                            71144                            70785   \n",
      "3                            79826                            80546   \n",
      "4                            62590                            62425   \n",
      "\n",
      "   Population 31 Dec Employed 2017  Population 31 Dec Employed 2018  ...  \\\n",
      "0                           775979                           797737  ...   \n",
      "1                           203162                           207212  ...   \n",
      "2                            71211                            71700  ...   \n",
      "3                            81028                            81745  ...   \n",
      "4                            63288                            64162  ...   \n",
      "\n",
      "   Population 31 Dec Other persons outside the labour force 2014  \\\n",
      "0                                              64652               \n",
      "1                                              13478               \n",
      "2                                               4850               \n",
      "3                                               5736               \n",
      "4                                               5348               \n",
      "\n",
      "   Population 31 Dec Other persons outside the labour force 2015  \\\n",
      "0                                              64284               \n",
      "1                                              13621               \n",
      "2                                               4997               \n",
      "3                                               5727               \n",
      "4                                               5334               \n",
      "\n",
      "   Population 31 Dec Other persons outside the labour force 2016  \\\n",
      "0                                              65611               \n",
      "1                                              13943               \n",
      "2                                               4822               \n",
      "3                                               5652               \n",
      "4                                               5245               \n",
      "\n",
      "   Population 31 Dec Other persons outside the labour force 2017  \\\n",
      "0                                              66900               \n",
      "1                                              14160               \n",
      "2                                               4914               \n",
      "3                                               5629               \n",
      "4                                               5120               \n",
      "\n",
      "   Population 31 Dec Other persons outside the labour force 2018  \\\n",
      "0                                              65895               \n",
      "1                                              13915               \n",
      "2                                               5042               \n",
      "3                                               5993               \n",
      "4                                               4918               \n",
      "\n",
      "   Population 31 Dec Other persons outside the labour force 2019  \\\n",
      "0                                              67445               \n",
      "1                                              14258               \n",
      "2                                               5273               \n",
      "3                                               6590               \n",
      "4                                               4943               \n",
      "\n",
      "   Population 31 Dec Other persons outside the labour force 2020  \\\n",
      "0                                              64602               \n",
      "1                                              14124               \n",
      "2                                               4762               \n",
      "3                                               6073               \n",
      "4                                               4530               \n",
      "\n",
      "   Population 31 Dec Other persons outside the labour force 2021  \\\n",
      "0                                              66622               \n",
      "1                                              14044               \n",
      "2                                               4705               \n",
      "3                                               5939               \n",
      "4                                               4812               \n",
      "\n",
      "   Population 31 Dec Other persons outside the labour force 2022  \\\n",
      "0                                              68792               \n",
      "1                                              14344               \n",
      "2                                               4770               \n",
      "3                                               6002               \n",
      "4                                               4800               \n",
      "\n",
      "   Population 31 Dec Other persons outside the labour force 2023  \n",
      "0                                              74150              \n",
      "1                                              15445              \n",
      "2                                               5044              \n",
      "3                                               6396              \n",
      "4                                               5024              \n",
      "\n",
      "[5 rows x 57 columns]\n"
     ]
    }
   ],
   "source": [
    "employmenent_rate = pd.read_csv('regional-data/employment.csv', sep=';', index_col=False)\n",
    "print(employmenent_rate.head())"
   ]
  },
  {
   "cell_type": "code",
   "execution_count": null,
   "id": "3d189130",
   "metadata": {},
   "outputs": [
    {
     "name": "stdout",
     "output_type": "stream",
     "text": [
      "                 region  region_id  year  value\n",
      "0       Central Finland         13  2018   18.9\n",
      "1       Central Finland         13  2020   17.9\n",
      "2       Central Finland         13  2022   34.8\n",
      "3       Central Finland         13  2024   40.6\n",
      "4  Central Ostrobothnia         16  2018   19.8\n"
     ]
    }
   ],
   "source": [
    "fees_hampered_care = pd.read_csv('regional-data/fees_hampered_care.csv', sep=';', index_col=False)\n",
    "fees_hampered_care = fees_hampered_care.drop(columns=['indicator', 'indicator_id', 'region_id', 'sex'])\n",
    "print(fees_hampered_care.head())"
   ]
  },
  {
   "cell_type": "code",
   "execution_count": 28,
   "id": "1a1154bc",
   "metadata": {},
   "outputs": [
    {
     "name": "stdout",
     "output_type": "stream",
     "text": [
      "            region  year  value  value2\n",
      "0  Central Finland  2010   44.1    1195\n",
      "1  Central Finland  2011   51.5    1400\n",
      "2  Central Finland  2012   50.4    1375\n",
      "3  Central Finland  2013   51.2    1396\n",
      "4  Central Finland  2014   57.3    1563\n"
     ]
    }
   ],
   "source": [
    "health_workers_per_10k = pd.read_csv('regional-data/health_workers_per_10k.csv', sep=';', index_col=False)\n",
    "health_workers_per_10k = health_workers_per_10k.drop(columns=['indicator', 'indicator_id', 'region_id', 'sex'])\n",
    "print(health_workers_per_10k.head())"
   ]
  },
  {
   "cell_type": "code",
   "execution_count": null,
   "id": "cdda6dc7",
   "metadata": {},
   "outputs": [
    {
     "name": "stdout",
     "output_type": "stream",
     "text": [
      "            region  region_id  year  value\n",
      "0  Central Finland         13  2010    7.0\n",
      "1  Central Finland         13  2011    6.9\n",
      "2  Central Finland         13  2012    6.4\n",
      "3  Central Finland         13  2013    6.1\n",
      "4  Central Finland         13  2014    5.3\n"
     ]
    }
   ],
   "source": [
    "incidence_disability_pension  = pd.read_csv('regional-data/incidence_disability_pension.csv', sep=';', index_col=False)\n",
    "incidence_disability_pension = incidence_disability_pension.drop(columns=['indicator', 'indicator_id', 'region_id', 'sex'])\n",
    "print(incidence_disability_pension.head())"
   ]
  },
  {
   "cell_type": "code",
   "execution_count": 40,
   "id": "36a439be",
   "metadata": {},
   "outputs": [
    {
     "name": "stdout",
     "output_type": "stream",
     "text": [
      "                   Region  Dwelling population, persons 2010  \\\n",
      "0            MK01 Uusimaa                            1491991   \n",
      "1  MK02 Southwest Finland                             454281   \n",
      "2          MK04 Satakunta                             221453   \n",
      "3         MK05 Kanta-Häme                             171380   \n",
      "4          MK06 Pirkanmaa                             481738   \n",
      "\n",
      "   Dwelling population, persons 2011  Dwelling population, persons 2012  \\\n",
      "0                            1506469                            1524544   \n",
      "1                             455728                             457462   \n",
      "2                             220587                             220143   \n",
      "3                             171760                             172120   \n",
      "4                             484875                             488660   \n",
      "\n",
      "   Dwelling population, persons 2013  Dwelling population, persons 2014  \\\n",
      "0                            1542350                            1559288   \n",
      "1                             459229                             460981   \n",
      "2                             219864                             219461   \n",
      "3                             172211                             172091   \n",
      "4                             492360                             495301   \n",
      "\n",
      "   Dwelling population, persons 2015  Dwelling population, persons 2016  \\\n",
      "0                            1575379                            1593542   \n",
      "1                             462348                             463282   \n",
      "2                             218330                             217043   \n",
      "3                             171360                             170487   \n",
      "4                             497413                             500091   \n",
      "\n",
      "   Dwelling population, persons 2017  Dwelling population, persons 2018  ...  \\\n",
      "0                            1611201                            1627419  ...   \n",
      "1                             465247                             466297  ...   \n",
      "2                             215508                             213731  ...   \n",
      "3                             169358                             168056  ...   \n",
      "4                             502315                             505143  ...   \n",
      "\n",
      "   Disposable cash income,  median 2014  Disposable cash income,  median 2015  \\\n",
      "0                                 42216                                 42694   \n",
      "1                                 36115                                 36448   \n",
      "2                                 36182                                 36330   \n",
      "3                                 37876                                 37965   \n",
      "4                                 36362                                 36674   \n",
      "\n",
      "   Disposable cash income,  median 2016  Disposable cash income,  median 2017  \\\n",
      "0                                 42865                                 43049   \n",
      "1                                 36680                                 36911   \n",
      "2                                 36305                                 36630   \n",
      "3                                 38039                                 38009   \n",
      "4                                 36675                                 36738   \n",
      "\n",
      "   Disposable cash income,  median 2018  Disposable cash income,  median 2019  \\\n",
      "0                                 43227                                 43569   \n",
      "1                                 36942                                 37228   \n",
      "2                                 36765                                 36804   \n",
      "3                                 38021                                 38040   \n",
      "4                                 36722                                 36936   \n",
      "\n",
      "   Disposable cash income,  median 2020  Disposable cash income,  median 2021  \\\n",
      "0                                 43171                                 43219   \n",
      "1                                 37183                                 37243   \n",
      "2                                 36719                                 36670   \n",
      "3                                 38009                                 38103   \n",
      "4                                 36874                                 36919   \n",
      "\n",
      "   Disposable cash income,  median 2022  Disposable cash income,  median 2023  \n",
      "0                                 41534                                 40594  \n",
      "1                                 35906                                 35224  \n",
      "2                                 35308                                 34727  \n",
      "3                                 36731                                 36281  \n",
      "4                                 35583                                 34904  \n",
      "\n",
      "[5 rows x 43 columns]\n"
     ]
    }
   ],
   "source": [
    "income_disposable = pd.read_csv('regional-data/income_disposable.csv', sep=';', index_col=False)\n",
    "print(income_disposable.head())"
   ]
  },
  {
   "cell_type": "code",
   "execution_count": null,
   "id": "a9608cb6",
   "metadata": {},
   "outputs": [
    {
     "name": "stdout",
     "output_type": "stream",
     "text": [
      "                 region   value\n",
      "0       Central Finland  20.550\n",
      "1  Central Ostrobothnia  18.150\n",
      "2                Kainuu  24.975\n",
      "3            Kanta-Häme  17.025\n",
      "4           Kymenlaakso  20.525\n",
      "                 region  region_id  year  value\n",
      "0       Central Finland         13  2018   16.1\n",
      "1       Central Finland         13  2020   17.0\n",
      "2       Central Finland         13  2022   24.0\n",
      "3       Central Finland         13  2024   25.1\n",
      "4  Central Ostrobothnia         16  2018   16.4\n"
     ]
    }
   ],
   "source": [
    "insufficient_medical_services = pd.read_csv('regional-data/insufficient_medical_services.csv', sep=';', index_col=False)\n",
    "insufficient_medical_services = insufficient_medical_services.drop(columns=['indicator', 'indicator_id', 'region_id', 'sex'])\n",
    "insufficient_medical_services_average_by_region = insufficient_medical_services.groupby('region')['value'].mean().reset_index()\n",
    "\n",
    "print(insufficient_medical_services_average_by_region.head())\n",
    "print(insufficient_medical_services.head())"
   ]
  },
  {
   "cell_type": "code",
   "execution_count": 35,
   "id": "82cf47fb",
   "metadata": {},
   "outputs": [
    {
     "name": "stdout",
     "output_type": "stream",
     "text": [
      "            region  year  value\n",
      "0  Central Finland  2010  130.9\n",
      "1  Central Finland  2011  143.8\n",
      "2  Central Finland  2012  138.8\n",
      "3  Central Finland  2013  132.7\n",
      "4  Central Finland  2014  128.4\n",
      "                 region   value\n",
      "0       Central Finland  128.67\n",
      "1  Central Ostrobothnia  119.53\n",
      "2                Kainuu  122.46\n",
      "3            Kanta-Häme  100.18\n",
      "4           Kymenlaakso  108.85\n"
     ]
    }
   ],
   "source": [
    "mental_health = pd.read_csv('regional-data/mental_health.csv', sep=';', index_col=False)\n",
    "mental_health = mental_health.drop(columns=['indicator', 'indicator_id', 'region_id', 'sex'])\n",
    "mental_health_average_by_region = mental_health.groupby('region')['value'].mean().reset_index()\n",
    "\n",
    "print(mental_health.head())\n",
    "print(mental_health_average_by_region.head())"
   ]
  },
  {
   "cell_type": "code",
   "execution_count": 37,
   "id": "bc37d1e0",
   "metadata": {},
   "outputs": [
    {
     "name": "stdout",
     "output_type": "stream",
     "text": [
      "            region  year  value\n",
      "0  Central Finland  2013   18.4\n",
      "1  Central Finland  2014   16.9\n",
      "2  Central Finland  2015   20.8\n",
      "3  Central Finland  2018   20.1\n",
      "4  Central Finland  2020   22.2\n",
      "                 region      value\n",
      "0       Central Finland  21.028571\n",
      "1  Central Ostrobothnia  22.442857\n",
      "2                Kainuu  22.942857\n",
      "3            Kanta-Häme  23.842857\n",
      "4           Kymenlaakso  22.800000\n"
     ]
    }
   ],
   "source": [
    "obesity_rate = pd.read_csv('regional-data/obesity_rate.csv', sep=';', index_col=False)\n",
    "obesity_rate = obesity_rate.drop(columns=['indicator', 'indicator_id', 'region_id', 'sex'])\n",
    "obesity_rate_average_by_region = obesity_rate.groupby('region')['value'].mean().reset_index()\n",
    "\n",
    "print(obesity_rate.head())\n",
    "print(obesity_rate_average_by_region.head())\n"
   ]
  },
  {
   "cell_type": "code",
   "execution_count": null,
   "id": "ceb5a2e3",
   "metadata": {},
   "outputs": [
    {
     "name": "stdout",
     "output_type": "stream",
     "text": [
      "            region  region_id  year  value  value2\n",
      "0  Central Finland         13  2010    9.2   11789\n",
      "1  Central Finland         13  2011    8.9   11494\n",
      "2  Central Finland         13  2012    8.8   11404\n",
      "3  Central Finland         13  2013    8.7   11378\n",
      "4  Central Finland         13  2014    8.6   11313\n",
      "                 region     value\n",
      "0       Central Finland  7.820000\n",
      "1  Central Ostrobothnia  8.766667\n",
      "2                Kainuu  6.660000\n",
      "3            Kanta-Häme  7.833333\n",
      "4           Kymenlaakso  6.260000\n"
     ]
    }
   ],
   "source": [
    "overcrowded_living = pd.read_csv('regional-data/overcrowded_living.csv', sep=';', index_col=False)\n",
    "overcrowded_living = overcrowded_living.drop(columns=['indicator', 'indicator_id', 'region_id', 'sex'])\n",
    "overcrowded_living_average_by_region = overcrowded_living.groupby('region')['value'].mean().reset_index()\n",
    "\n",
    "print(overcrowded_living.head())\n",
    "print(overcrowded_living_average_by_region.head())"
   ]
  },
  {
   "cell_type": "code",
   "execution_count": 42,
   "id": "2bfe4c94",
   "metadata": {},
   "outputs": [
    {
     "name": "stdout",
     "output_type": "stream",
     "text": [
      "            region  year  value\n",
      "0  Central Finland  2013   53.1\n",
      "1  Central Finland  2014   54.1\n",
      "2  Central Finland  2015   54.8\n",
      "3  Central Finland  2018   56.9\n",
      "4  Central Finland  2020   50.3\n",
      "                 region      value\n",
      "0       Central Finland  52.771429\n",
      "1  Central Ostrobothnia  51.042857\n",
      "2                Kainuu  51.857143\n",
      "3            Kanta-Häme  51.557143\n",
      "4           Kymenlaakso  49.585714\n"
     ]
    }
   ],
   "source": [
    "percentage_happy = pd.read_csv('regional-data/percentage_happy.csv', sep=';', index_col=False)\n",
    "percentage_happy = percentage_happy.drop(columns=['indicator', 'indicator_id', 'region_id', 'sex'])\n",
    "percentage_happy_average_by_region = percentage_happy.groupby('region')['value'].mean().reset_index()\n",
    "\n",
    "print(percentage_happy.head())\n",
    "print(percentage_happy_average_by_region.head())"
   ]
  },
  {
   "cell_type": "code",
   "execution_count": 44,
   "id": "d702c65f",
   "metadata": {},
   "outputs": [
    {
     "name": "stdout",
     "output_type": "stream",
     "text": [
      "            region  year  value\n",
      "0  Central Finland  2013   24.1\n",
      "1  Central Finland  2014   24.1\n",
      "2  Central Finland  2015   22.6\n",
      "3  Central Finland  2016   25.3\n",
      "4  Central Finland  2017   18.5\n",
      "                 region      value\n",
      "0       Central Finland  22.366667\n",
      "1  Central Ostrobothnia  24.225000\n",
      "2                Kainuu  23.550000\n",
      "3            Kanta-Häme  27.050000\n",
      "4           Kymenlaakso  27.133333\n"
     ]
    }
   ],
   "source": [
    "physical_activity = pd.read_csv('regional-data/physical_activity.csv', sep=';', index_col=False)\n",
    "physical_activity = physical_activity.drop(columns=['indicator', 'indicator_id', 'region_id', 'sex'])\n",
    "physical_activity_average_by_region = physical_activity.groupby('region')['value'].mean().reset_index()\n",
    "\n",
    "print(physical_activity.head())\n",
    "print(physical_activity_average_by_region.head())"
   ]
  },
  {
   "cell_type": "code",
   "execution_count": 45,
   "id": "0f6d5311",
   "metadata": {},
   "outputs": [
    {
     "name": "stdout",
     "output_type": "stream",
     "text": [
      "            region  year  value\n",
      "0  Central Finland  2010   86.0\n",
      "1  Central Finland  2012   64.0\n",
      "2  Central Finland  2014   67.0\n",
      "3  Central Finland  2016   64.0\n",
      "4  Central Finland  2018   57.0\n",
      "                 region  value\n",
      "0       Central Finland   71.5\n",
      "1  Central Ostrobothnia   64.3\n",
      "2                Kainuu   74.0\n",
      "3            Kanta-Häme   79.4\n",
      "4           Kymenlaakso   96.7\n"
     ]
    }
   ],
   "source": [
    "regular_sports_events = pd.read_csv('regional-data/regular_sports_events.csv', sep=';', index_col=False)\n",
    "regular_sports_events = regular_sports_events.drop(columns=['indicator', 'indicator_id', 'region_id', 'sex'])\n",
    "regular_sports_events_average_by_region = regular_sports_events.groupby('region')['value'].mean().reset_index()\n",
    "\n",
    "print(regular_sports_events.head())\n",
    "print(regular_sports_events_average_by_region.head())"
   ]
  },
  {
   "cell_type": "code",
   "execution_count": 46,
   "id": "5570c59c",
   "metadata": {},
   "outputs": [
    {
     "name": "stdout",
     "output_type": "stream",
     "text": [
      "            region  year  value\n",
      "0  Central Finland  2013   10.4\n",
      "1  Central Finland  2014   10.4\n",
      "2  Central Finland  2015   11.3\n",
      "3  Central Finland  2018    9.8\n",
      "4  Central Finland  2020   14.1\n",
      "                 region      value\n",
      "0       Central Finland  12.357143\n",
      "1  Central Ostrobothnia  11.971429\n",
      "2                Kainuu  12.542857\n",
      "3            Kanta-Häme  13.485714\n",
      "4           Kymenlaakso  12.971429\n"
     ]
    }
   ],
   "source": [
    "servere_mental_strain = pd.read_csv('regional-data/severe_mental_strain.csv', sep=';', index_col=False)\n",
    "servere_mental_strain = servere_mental_strain.drop(columns=['indicator', 'indicator_id', 'region_id', 'sex'])\n",
    "servere_mental_strain_average_by_region = servere_mental_strain.groupby('region')['value'].mean().reset_index()\n",
    "\n",
    "print(servere_mental_strain.head())\n",
    "print(servere_mental_strain_average_by_region.head())"
   ]
  },
  {
   "cell_type": "code",
   "execution_count": 47,
   "id": "664b8aaf",
   "metadata": {},
   "outputs": [
    {
     "name": "stdout",
     "output_type": "stream",
     "text": [
      "            region  year  value\n",
      "0  Central Finland  2013   28.5\n",
      "1  Central Finland  2014   26.9\n",
      "2  Central Finland  2015   26.7\n",
      "3  Central Finland  2018   25.0\n",
      "4  Central Finland  2020   27.3\n",
      "                 region      value\n",
      "0       Central Finland  26.985714\n",
      "1  Central Ostrobothnia  26.542857\n",
      "2                Kainuu  31.971429\n",
      "3            Kanta-Häme  28.928571\n",
      "4           Kymenlaakso  31.685714\n"
     ]
    }
   ],
   "source": [
    "work_until_retired = pd.read_csv('regional-data/work_until_retired.csv', sep=';', index_col=False)\n",
    "work_until_retired = work_until_retired.drop(columns=['indicator', 'indicator_id', 'region_id', 'sex'])\n",
    "work_until_retired_average_by_region = work_until_retired.groupby('region')['value'].mean().reset_index()\n",
    "\n",
    "print(work_until_retired.head())\n",
    "print(work_until_retired_average_by_region.head())"
   ]
  }
 ],
 "metadata": {
  "kernelspec": {
   "display_name": ".venv",
   "language": "python",
   "name": "python3"
  },
  "language_info": {
   "codemirror_mode": {
    "name": "ipython",
    "version": 3
   },
   "file_extension": ".py",
   "mimetype": "text/x-python",
   "name": "python",
   "nbconvert_exporter": "python",
   "pygments_lexer": "ipython3",
   "version": "3.12.3"
  }
 },
 "nbformat": 4,
 "nbformat_minor": 5
}
